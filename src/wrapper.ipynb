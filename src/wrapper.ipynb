{
 "cells": [
  {
   "cell_type": "code",
   "execution_count": 1,
   "metadata": {},
   "outputs": [],
   "source": [
    "import pandas as pd"
   ]
  },
  {
   "cell_type": "code",
   "execution_count": 2,
   "metadata": {},
   "outputs": [],
   "source": [
    "speakers = pd.read_csv(\"data/speakers_all.csv\", usecols=[\"native_language\", \"filename\", \"file_missing?\"])"
   ]
  },
  {
   "cell_type": "code",
   "execution_count": 3,
   "metadata": {},
   "outputs": [
    {
     "data": {
      "text/html": [
       "<div>\n",
       "<style scoped>\n",
       "    .dataframe tbody tr th:only-of-type {\n",
       "        vertical-align: middle;\n",
       "    }\n",
       "\n",
       "    .dataframe tbody tr th {\n",
       "        vertical-align: top;\n",
       "    }\n",
       "\n",
       "    .dataframe thead th {\n",
       "        text-align: right;\n",
       "    }\n",
       "</style>\n",
       "<table border=\"1\" class=\"dataframe\">\n",
       "  <thead>\n",
       "    <tr style=\"text-align: right;\">\n",
       "      <th></th>\n",
       "      <th>filename</th>\n",
       "      <th>native_language</th>\n",
       "      <th>file_missing?</th>\n",
       "    </tr>\n",
       "  </thead>\n",
       "  <tbody>\n",
       "    <tr>\n",
       "      <th>0</th>\n",
       "      <td>balanta</td>\n",
       "      <td>balanta</td>\n",
       "      <td>True</td>\n",
       "    </tr>\n",
       "    <tr>\n",
       "      <th>1</th>\n",
       "      <td>cameroon</td>\n",
       "      <td>cameroon</td>\n",
       "      <td>True</td>\n",
       "    </tr>\n",
       "    <tr>\n",
       "      <th>2</th>\n",
       "      <td>fulfulde</td>\n",
       "      <td>fulfulde</td>\n",
       "      <td>True</td>\n",
       "    </tr>\n",
       "    <tr>\n",
       "      <th>3</th>\n",
       "      <td>haitian</td>\n",
       "      <td>haitian</td>\n",
       "      <td>True</td>\n",
       "    </tr>\n",
       "    <tr>\n",
       "      <th>4</th>\n",
       "      <td>haitian</td>\n",
       "      <td>haitian</td>\n",
       "      <td>True</td>\n",
       "    </tr>\n",
       "  </tbody>\n",
       "</table>\n",
       "</div>"
      ],
      "text/plain": [
       "   filename native_language  file_missing?\n",
       "0   balanta         balanta           True\n",
       "1  cameroon        cameroon           True\n",
       "2  fulfulde        fulfulde           True\n",
       "3   haitian         haitian           True\n",
       "4   haitian         haitian           True"
      ]
     },
     "execution_count": 3,
     "metadata": {},
     "output_type": "execute_result"
    }
   ],
   "source": [
    "speakers.head()"
   ]
  },
  {
   "cell_type": "code",
   "execution_count": 4,
   "metadata": {},
   "outputs": [
    {
     "data": {
      "text/plain": [
       "filename           object\n",
       "native_language    object\n",
       "file_missing?        bool\n",
       "dtype: object"
      ]
     },
     "execution_count": 4,
     "metadata": {},
     "output_type": "execute_result"
    }
   ],
   "source": [
    "speakers.dtypes"
   ]
  },
  {
   "cell_type": "code",
   "execution_count": 5,
   "metadata": {},
   "outputs": [],
   "source": [
    "import sys, os, time\n",
    "from subprocess import Popen, list2cmdline\n",
    "import subprocess"
   ]
  },
  {
   "cell_type": "code",
   "execution_count": 6,
   "metadata": {},
   "outputs": [],
   "source": [
    "cmd = \"./featex -i ./data/converted/{}.raw \" \\\n",
    "    \"please call stella ask her to bring these \" \\\n",
    "    \"things with her from the store six spoons \" \\\n",
    "    \"of fresh snow peas five thick slabs of blue \" \\\n",
    "    \"cheese and maybe a snack for her brother \" \\\n",
    "    \"bob we also need a small plastic snake and \" \\\n",
    "    \"a big toy frog for the kids she can scoop \" \\\n",
    "    \"these things into three red bags and we will \" \\\n",
    "    \"go meet her wednesday at the train station\""
   ]
  },
  {
   "cell_type": "code",
   "execution_count": 7,
   "metadata": {},
   "outputs": [],
   "source": [
    "data_file = \"data/dataset.csv\""
   ]
  },
  {
   "cell_type": "code",
   "execution_count": 8,
   "metadata": {},
   "outputs": [],
   "source": [
    "# Initialize the csv file\n",
    "columns = ['native_language']\n",
    "columns.extend(range(25))\n",
    "df = pd.DataFrame([], columns=columns)\n",
    "df.to_csv(data_file, index=False)"
   ]
  },
  {
   "cell_type": "code",
   "execution_count": 9,
   "metadata": {},
   "outputs": [],
   "source": [
    "def append_to_data(native, data):\n",
    "    record = [[native]]\n",
    "    ps = data.decode().split('\\n')\n",
    "    wednesday = ps[202: 208]\n",
    "    end = float(ps[208].split()[-1])\n",
    "\n",
    "    for p in wednesday:\n",
    "        for num in p.split()[1:]:\n",
    "            record[0].append(float(num))\n",
    "    record[0].append(end)\n",
    "    df = pd.DataFrame(record, columns=columns)\n",
    "    df.to_csv(data_file, mode='a', header=False, index=False)"
   ]
  },
  {
   "cell_type": "code",
   "execution_count": 10,
   "metadata": {},
   "outputs": [],
   "source": [
    "def cpu_count():\n",
    "    ''' Returns the number of CPUs in the system\n",
    "    '''\n",
    "    num = 1\n",
    "    if sys.platform == 'win32':\n",
    "        try:\n",
    "            num = int(os.environ['NUMBER_OF_PROCESSORS'])\n",
    "        except (ValueError, KeyError):\n",
    "            pass\n",
    "    elif sys.platform == 'darwin':\n",
    "        try:\n",
    "            num = int(os.popen('sysctl -n hw.ncpu').read())\n",
    "        except ValueError:\n",
    "            pass\n",
    "    else:\n",
    "        try:\n",
    "            num = os.sysconf('SC_NPROCESSORS_ONLN')\n",
    "        except (ValueError, OSError, AttributeError):\n",
    "            pass\n",
    "\n",
    "    return num"
   ]
  },
  {
   "cell_type": "code",
   "execution_count": 30,
   "metadata": {},
   "outputs": [],
   "source": [
    "def exec_commands(cmds):\n",
    "    ''' Exec commands in parallel in multiple process \n",
    "    (as much as we have CPU)\n",
    "    '''\n",
    "    if not cmds: return # empty list\n",
    "\n",
    "    def done(p):\n",
    "        return p.poll() is not None\n",
    "    def success(p):\n",
    "        return p.returncode == 0\n",
    "    def fail():\n",
    "        sys.exit(1)\n",
    "    \n",
    "    max_task = cpu_count()\n",
    "    processes = []\n",
    "    while True:\n",
    "        while cmds and len(processes) < max_task:\n",
    "            task = cmds.pop()\n",
    "            processes.append((\n",
    "                Popen(\n",
    "                    task[0],\n",
    "                    env={\"LD_LIBRARY_PATH\" : \"/usr/local/lib\"},\n",
    "                    stdout=subprocess.PIPE\n",
    "                )\n",
    "                ,task[1]\n",
    "            ))\n",
    "\n",
    "        for p, native in processes:\n",
    "            if done(p):\n",
    "                processes.remove((p, native))\n",
    "                if success(p):\n",
    "                    append_to_data(native, p.communicate()[0])\n",
    "\n",
    "        if not processes and not cmds:\n",
    "            break\n",
    "        else:\n",
    "            time.sleep(0.05)"
   ]
  },
  {
   "cell_type": "code",
   "execution_count": 31,
   "metadata": {},
   "outputs": [],
   "source": [
    "cmds = []\n",
    "\n",
    "for index, row in speakers.iterrows():\n",
    "    if row[\"file_missing?\"]:\n",
    "        continue\n",
    "    cmds.append((cmd.format(str(row[\"filename\"])).split(), row[\"native_language\"]))\n",
    "cmds = cmds[:-393]"
   ]
  },
  {
   "cell_type": "code",
   "execution_count": 32,
   "metadata": {},
   "outputs": [],
   "source": [
    "exec_commands(cmds)"
   ]
  },
  {
   "cell_type": "code",
   "execution_count": null,
   "metadata": {},
   "outputs": [],
   "source": []
  }
 ],
 "metadata": {
  "kernelspec": {
   "display_name": "Python [conda env:nlp] *",
   "language": "python",
   "name": "conda-env-nlp-py"
  },
  "language_info": {
   "codemirror_mode": {
    "name": "ipython",
    "version": 3
   },
   "file_extension": ".py",
   "mimetype": "text/x-python",
   "name": "python",
   "nbconvert_exporter": "python",
   "pygments_lexer": "ipython3",
   "version": "3.7.5"
  }
 },
 "nbformat": 4,
 "nbformat_minor": 2
}
